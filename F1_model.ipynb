{
 "cells": [
  {
   "cell_type": "code",
   "execution_count": 22,
   "id": "d9be8655",
   "metadata": {},
   "outputs": [
    {
     "name": "stdout",
     "output_type": "stream",
     "text": [
      "Requirement already satisfied: kagglehub in c:\\users\\aryan\\anaconda3\\envs\\myenv\\lib\\site-packages (0.3.13)\n",
      "Requirement already satisfied: packaging in c:\\users\\aryan\\anaconda3\\envs\\myenv\\lib\\site-packages (from kagglehub) (25.0)\n",
      "Requirement already satisfied: pyyaml in c:\\users\\aryan\\anaconda3\\envs\\myenv\\lib\\site-packages (from kagglehub) (6.0.3)\n",
      "Requirement already satisfied: requests in c:\\users\\aryan\\anaconda3\\envs\\myenv\\lib\\site-packages (from kagglehub) (2.32.5)\n",
      "Requirement already satisfied: tqdm in c:\\users\\aryan\\anaconda3\\envs\\myenv\\lib\\site-packages (from kagglehub) (4.67.1)\n",
      "Requirement already satisfied: charset_normalizer<4,>=2 in c:\\users\\aryan\\anaconda3\\envs\\myenv\\lib\\site-packages (from requests->kagglehub) (3.4.4)\n",
      "Requirement already satisfied: idna<4,>=2.5 in c:\\users\\aryan\\anaconda3\\envs\\myenv\\lib\\site-packages (from requests->kagglehub) (3.11)\n",
      "Requirement already satisfied: urllib3<3,>=1.21.1 in c:\\users\\aryan\\anaconda3\\envs\\myenv\\lib\\site-packages (from requests->kagglehub) (2.5.0)\n",
      "Requirement already satisfied: certifi>=2017.4.17 in c:\\users\\aryan\\anaconda3\\envs\\myenv\\lib\\site-packages (from requests->kagglehub) (2025.10.5)\n",
      "Requirement already satisfied: colorama in c:\\users\\aryan\\anaconda3\\envs\\myenv\\lib\\site-packages (from tqdm->kagglehub) (0.4.6)\n",
      "Note: you may need to restart the kernel to use updated packages.\n"
     ]
    }
   ],
   "source": [
    "%pip install kagglehub"
   ]
  },
  {
   "cell_type": "code",
   "execution_count": 23,
   "id": "f5ea25dc",
   "metadata": {},
   "outputs": [
    {
     "name": "stdout",
     "output_type": "stream",
     "text": [
      "Requirement already satisfied: streamlit in c:\\users\\aryan\\anaconda3\\envs\\myenv\\lib\\site-packages (1.50.0)\n",
      "Requirement already satisfied: altair!=5.4.0,!=5.4.1,<6,>=4.0 in c:\\users\\aryan\\anaconda3\\envs\\myenv\\lib\\site-packages (from streamlit) (5.5.0)\n",
      "Requirement already satisfied: blinker<2,>=1.5.0 in c:\\users\\aryan\\anaconda3\\envs\\myenv\\lib\\site-packages (from streamlit) (1.9.0)\n",
      "Requirement already satisfied: cachetools<7,>=4.0 in c:\\users\\aryan\\anaconda3\\envs\\myenv\\lib\\site-packages (from streamlit) (6.2.1)\n",
      "Requirement already satisfied: click<9,>=7.0 in c:\\users\\aryan\\anaconda3\\envs\\myenv\\lib\\site-packages (from streamlit) (8.3.0)\n",
      "Requirement already satisfied: numpy<3,>=1.23 in c:\\users\\aryan\\anaconda3\\envs\\myenv\\lib\\site-packages (from streamlit) (2.3.3)\n",
      "Requirement already satisfied: packaging<26,>=20 in c:\\users\\aryan\\anaconda3\\envs\\myenv\\lib\\site-packages (from streamlit) (25.0)\n",
      "Requirement already satisfied: pandas<3,>=1.4.0 in c:\\users\\aryan\\anaconda3\\envs\\myenv\\lib\\site-packages (from streamlit) (2.3.3)\n",
      "Requirement already satisfied: pillow<12,>=7.1.0 in c:\\users\\aryan\\anaconda3\\envs\\myenv\\lib\\site-packages (from streamlit) (11.3.0)\n",
      "Requirement already satisfied: protobuf<7,>=3.20 in c:\\users\\aryan\\anaconda3\\envs\\myenv\\lib\\site-packages (from streamlit) (6.32.1)\n",
      "Requirement already satisfied: pyarrow>=7.0 in c:\\users\\aryan\\anaconda3\\envs\\myenv\\lib\\site-packages (from streamlit) (21.0.0)\n",
      "Requirement already satisfied: requests<3,>=2.27 in c:\\users\\aryan\\anaconda3\\envs\\myenv\\lib\\site-packages (from streamlit) (2.32.5)\n",
      "Requirement already satisfied: tenacity<10,>=8.1.0 in c:\\users\\aryan\\anaconda3\\envs\\myenv\\lib\\site-packages (from streamlit) (9.1.2)\n",
      "Requirement already satisfied: toml<2,>=0.10.1 in c:\\users\\aryan\\anaconda3\\envs\\myenv\\lib\\site-packages (from streamlit) (0.10.2)\n",
      "Requirement already satisfied: typing-extensions<5,>=4.4.0 in c:\\users\\aryan\\anaconda3\\envs\\myenv\\lib\\site-packages (from streamlit) (4.15.0)\n",
      "Requirement already satisfied: watchdog<7,>=2.1.5 in c:\\users\\aryan\\anaconda3\\envs\\myenv\\lib\\site-packages (from streamlit) (6.0.0)\n",
      "Requirement already satisfied: gitpython!=3.1.19,<4,>=3.0.7 in c:\\users\\aryan\\anaconda3\\envs\\myenv\\lib\\site-packages (from streamlit) (3.1.45)\n",
      "Requirement already satisfied: pydeck<1,>=0.8.0b4 in c:\\users\\aryan\\anaconda3\\envs\\myenv\\lib\\site-packages (from streamlit) (0.9.1)\n",
      "Requirement already satisfied: tornado!=6.5.0,<7,>=6.0.3 in c:\\users\\aryan\\anaconda3\\envs\\myenv\\lib\\site-packages (from streamlit) (6.5.1)\n",
      "Requirement already satisfied: jinja2 in c:\\users\\aryan\\anaconda3\\envs\\myenv\\lib\\site-packages (from altair!=5.4.0,!=5.4.1,<6,>=4.0->streamlit) (3.1.6)\n",
      "Requirement already satisfied: jsonschema>=3.0 in c:\\users\\aryan\\anaconda3\\envs\\myenv\\lib\\site-packages (from altair!=5.4.0,!=5.4.1,<6,>=4.0->streamlit) (4.25.1)\n",
      "Requirement already satisfied: narwhals>=1.14.2 in c:\\users\\aryan\\anaconda3\\envs\\myenv\\lib\\site-packages (from altair!=5.4.0,!=5.4.1,<6,>=4.0->streamlit) (2.8.0)\n",
      "Requirement already satisfied: colorama in c:\\users\\aryan\\anaconda3\\envs\\myenv\\lib\\site-packages (from click<9,>=7.0->streamlit) (0.4.6)\n",
      "Requirement already satisfied: gitdb<5,>=4.0.1 in c:\\users\\aryan\\anaconda3\\envs\\myenv\\lib\\site-packages (from gitpython!=3.1.19,<4,>=3.0.7->streamlit) (4.0.12)\n",
      "Requirement already satisfied: smmap<6,>=3.0.1 in c:\\users\\aryan\\anaconda3\\envs\\myenv\\lib\\site-packages (from gitdb<5,>=4.0.1->gitpython!=3.1.19,<4,>=3.0.7->streamlit) (5.0.2)\n",
      "Requirement already satisfied: python-dateutil>=2.8.2 in c:\\users\\aryan\\anaconda3\\envs\\myenv\\lib\\site-packages (from pandas<3,>=1.4.0->streamlit) (2.9.0.post0)\n",
      "Requirement already satisfied: pytz>=2020.1 in c:\\users\\aryan\\anaconda3\\envs\\myenv\\lib\\site-packages (from pandas<3,>=1.4.0->streamlit) (2025.2)\n",
      "Requirement already satisfied: tzdata>=2022.7 in c:\\users\\aryan\\anaconda3\\envs\\myenv\\lib\\site-packages (from pandas<3,>=1.4.0->streamlit) (2025.2)\n",
      "Requirement already satisfied: charset_normalizer<4,>=2 in c:\\users\\aryan\\anaconda3\\envs\\myenv\\lib\\site-packages (from requests<3,>=2.27->streamlit) (3.4.4)\n",
      "Requirement already satisfied: idna<4,>=2.5 in c:\\users\\aryan\\anaconda3\\envs\\myenv\\lib\\site-packages (from requests<3,>=2.27->streamlit) (3.11)\n",
      "Requirement already satisfied: urllib3<3,>=1.21.1 in c:\\users\\aryan\\anaconda3\\envs\\myenv\\lib\\site-packages (from requests<3,>=2.27->streamlit) (2.5.0)\n",
      "Requirement already satisfied: certifi>=2017.4.17 in c:\\users\\aryan\\anaconda3\\envs\\myenv\\lib\\site-packages (from requests<3,>=2.27->streamlit) (2025.10.5)\n",
      "Requirement already satisfied: MarkupSafe>=2.0 in c:\\users\\aryan\\anaconda3\\envs\\myenv\\lib\\site-packages (from jinja2->altair!=5.4.0,!=5.4.1,<6,>=4.0->streamlit) (3.0.3)\n",
      "Requirement already satisfied: attrs>=22.2.0 in c:\\users\\aryan\\anaconda3\\envs\\myenv\\lib\\site-packages (from jsonschema>=3.0->altair!=5.4.0,!=5.4.1,<6,>=4.0->streamlit) (25.4.0)\n",
      "Requirement already satisfied: jsonschema-specifications>=2023.03.6 in c:\\users\\aryan\\anaconda3\\envs\\myenv\\lib\\site-packages (from jsonschema>=3.0->altair!=5.4.0,!=5.4.1,<6,>=4.0->streamlit) (2025.9.1)\n",
      "Requirement already satisfied: referencing>=0.28.4 in c:\\users\\aryan\\anaconda3\\envs\\myenv\\lib\\site-packages (from jsonschema>=3.0->altair!=5.4.0,!=5.4.1,<6,>=4.0->streamlit) (0.37.0)\n",
      "Requirement already satisfied: rpds-py>=0.7.1 in c:\\users\\aryan\\anaconda3\\envs\\myenv\\lib\\site-packages (from jsonschema>=3.0->altair!=5.4.0,!=5.4.1,<6,>=4.0->streamlit) (0.27.1)\n",
      "Requirement already satisfied: six>=1.5 in c:\\users\\aryan\\anaconda3\\envs\\myenv\\lib\\site-packages (from python-dateutil>=2.8.2->pandas<3,>=1.4.0->streamlit) (1.17.0)\n",
      "Note: you may need to restart the kernel to use updated packages.\n"
     ]
    }
   ],
   "source": [
    "%pip install streamlit"
   ]
  },
  {
   "cell_type": "code",
   "execution_count": 24,
   "id": "d8bc1ebb",
   "metadata": {},
   "outputs": [
    {
     "name": "stdout",
     "output_type": "stream",
     "text": [
      "Path to dataset files: C:\\Users\\aryan\\.cache\\kagglehub\\datasets\\pranay13257\\f1-dnf-classification\\versions\\1\n"
     ]
    }
   ],
   "source": [
    "import kagglehub\n",
    "\n",
    "path = kagglehub.dataset_download(\"pranay13257/f1-dnf-classification\")\n",
    "\n",
    "print(\"Path to dataset files:\", path)"
   ]
  },
  {
   "cell_type": "code",
   "execution_count": 25,
   "id": "7d14a18f",
   "metadata": {},
   "outputs": [
    {
     "name": "stdout",
     "output_type": "stream",
     "text": [
      "Requirement already satisfied: torch in c:\\users\\aryan\\anaconda3\\envs\\myenv\\lib\\site-packages (2.8.0)\n",
      "Requirement already satisfied: torchvision in c:\\users\\aryan\\anaconda3\\envs\\myenv\\lib\\site-packages (0.23.0)\n",
      "Requirement already satisfied: torchaudio in c:\\users\\aryan\\anaconda3\\envs\\myenv\\lib\\site-packages (2.8.0)\n",
      "Requirement already satisfied: scikit-learn in c:\\users\\aryan\\anaconda3\\envs\\myenv\\lib\\site-packages (1.7.2)\n",
      "Requirement already satisfied: xgboost in c:\\users\\aryan\\anaconda3\\envs\\myenv\\lib\\site-packages (3.0.5)\n",
      "Requirement already satisfied: matplotlib in c:\\users\\aryan\\anaconda3\\envs\\myenv\\lib\\site-packages (3.10.7)\n",
      "Requirement already satisfied: numpy in c:\\users\\aryan\\anaconda3\\envs\\myenv\\lib\\site-packages (2.3.3)\n",
      "Requirement already satisfied: pandas in c:\\users\\aryan\\anaconda3\\envs\\myenv\\lib\\site-packages (2.3.3)\n",
      "Requirement already satisfied: filelock in c:\\users\\aryan\\anaconda3\\envs\\myenv\\lib\\site-packages (from torch) (3.20.0)\n",
      "Requirement already satisfied: typing-extensions>=4.10.0 in c:\\users\\aryan\\anaconda3\\envs\\myenv\\lib\\site-packages (from torch) (4.15.0)\n",
      "Requirement already satisfied: sympy>=1.13.3 in c:\\users\\aryan\\anaconda3\\envs\\myenv\\lib\\site-packages (from torch) (1.14.0)\n",
      "Requirement already satisfied: networkx in c:\\users\\aryan\\anaconda3\\envs\\myenv\\lib\\site-packages (from torch) (3.5)\n",
      "Requirement already satisfied: jinja2 in c:\\users\\aryan\\anaconda3\\envs\\myenv\\lib\\site-packages (from torch) (3.1.6)\n",
      "Requirement already satisfied: fsspec in c:\\users\\aryan\\anaconda3\\envs\\myenv\\lib\\site-packages (from torch) (2025.9.0)\n",
      "Requirement already satisfied: setuptools in c:\\users\\aryan\\anaconda3\\envs\\myenv\\lib\\site-packages (from torch) (80.9.0)\n",
      "Requirement already satisfied: pillow!=8.3.*,>=5.3.0 in c:\\users\\aryan\\anaconda3\\envs\\myenv\\lib\\site-packages (from torchvision) (11.3.0)\n",
      "Requirement already satisfied: scipy>=1.8.0 in c:\\users\\aryan\\anaconda3\\envs\\myenv\\lib\\site-packages (from scikit-learn) (1.16.2)\n",
      "Requirement already satisfied: joblib>=1.2.0 in c:\\users\\aryan\\anaconda3\\envs\\myenv\\lib\\site-packages (from scikit-learn) (1.5.2)\n",
      "Requirement already satisfied: threadpoolctl>=3.1.0 in c:\\users\\aryan\\anaconda3\\envs\\myenv\\lib\\site-packages (from scikit-learn) (3.6.0)\n",
      "Requirement already satisfied: contourpy>=1.0.1 in c:\\users\\aryan\\anaconda3\\envs\\myenv\\lib\\site-packages (from matplotlib) (1.3.3)\n",
      "Requirement already satisfied: cycler>=0.10 in c:\\users\\aryan\\anaconda3\\envs\\myenv\\lib\\site-packages (from matplotlib) (0.12.1)\n",
      "Requirement already satisfied: fonttools>=4.22.0 in c:\\users\\aryan\\anaconda3\\envs\\myenv\\lib\\site-packages (from matplotlib) (4.60.1)\n",
      "Requirement already satisfied: kiwisolver>=1.3.1 in c:\\users\\aryan\\anaconda3\\envs\\myenv\\lib\\site-packages (from matplotlib) (1.4.9)\n",
      "Requirement already satisfied: packaging>=20.0 in c:\\users\\aryan\\anaconda3\\envs\\myenv\\lib\\site-packages (from matplotlib) (25.0)\n",
      "Requirement already satisfied: pyparsing>=3 in c:\\users\\aryan\\anaconda3\\envs\\myenv\\lib\\site-packages (from matplotlib) (3.2.5)\n",
      "Requirement already satisfied: python-dateutil>=2.7 in c:\\users\\aryan\\anaconda3\\envs\\myenv\\lib\\site-packages (from matplotlib) (2.9.0.post0)\n",
      "Requirement already satisfied: pytz>=2020.1 in c:\\users\\aryan\\anaconda3\\envs\\myenv\\lib\\site-packages (from pandas) (2025.2)\n",
      "Requirement already satisfied: tzdata>=2022.7 in c:\\users\\aryan\\anaconda3\\envs\\myenv\\lib\\site-packages (from pandas) (2025.2)\n",
      "Requirement already satisfied: six>=1.5 in c:\\users\\aryan\\anaconda3\\envs\\myenv\\lib\\site-packages (from python-dateutil>=2.7->matplotlib) (1.17.0)\n",
      "Requirement already satisfied: mpmath<1.4,>=1.1.0 in c:\\users\\aryan\\anaconda3\\envs\\myenv\\lib\\site-packages (from sympy>=1.13.3->torch) (1.3.0)\n",
      "Requirement already satisfied: MarkupSafe>=2.0 in c:\\users\\aryan\\anaconda3\\envs\\myenv\\lib\\site-packages (from jinja2->torch) (3.0.3)\n",
      "Note: you may need to restart the kernel to use updated packages.\n"
     ]
    }
   ],
   "source": [
    "%pip install torch torchvision torchaudio scikit-learn xgboost matplotlib numpy pandas xgboost"
   ]
  },
  {
   "cell_type": "code",
   "execution_count": 26,
   "id": "e654fde7",
   "metadata": {},
   "outputs": [],
   "source": [
    "import pandas as pd\n",
    "import numpy as np"
   ]
  },
  {
   "cell_type": "code",
   "execution_count": 27,
   "id": "a8a238da",
   "metadata": {},
   "outputs": [
    {
     "name": "stdout",
     "output_type": "stream",
     "text": [
      "<class 'pandas.core.frame.DataFrame'>\n",
      "RangeIndex: 10000 entries, 0 to 9999\n",
      "Data columns (total 31 columns):\n",
      " #   Column           Non-Null Count  Dtype  \n",
      "---  ------           --------------  -----  \n",
      " 0   resultId         10000 non-null  int64  \n",
      " 1   raceId           10000 non-null  int64  \n",
      " 2   year             10000 non-null  int64  \n",
      " 3   round            10000 non-null  int64  \n",
      " 4   grid             10000 non-null  int64  \n",
      " 5   positionOrder    10000 non-null  int64  \n",
      " 6   points           9029 non-null   float64\n",
      " 7   laps             9022 non-null   float64\n",
      " 8   milliseconds     8982 non-null   object \n",
      " 9   fastestLap       10000 non-null  object \n",
      " 10  rank             10000 non-null  object \n",
      " 11  fastestLapTime   10000 non-null  object \n",
      " 12  fastestLapSpeed  9047 non-null   object \n",
      " 13  driverRef        10000 non-null  object \n",
      " 14  surname          10000 non-null  object \n",
      " 15  forename         10000 non-null  object \n",
      " 16  dob              10000 non-null  object \n",
      " 17  nationality_x    10000 non-null  object \n",
      " 18  constructorRef   10000 non-null  object \n",
      " 19  name             10000 non-null  object \n",
      " 20  nationality_y    10000 non-null  object \n",
      " 21  circuitRef       10000 non-null  object \n",
      " 22  circuitId        10000 non-null  int64  \n",
      " 23  name_y           10000 non-null  object \n",
      " 24  location         10000 non-null  object \n",
      " 25  country          10000 non-null  object \n",
      " 26  lat              10000 non-null  float64\n",
      " 27  lng              10000 non-null  float64\n",
      " 28  alt              10000 non-null  int64  \n",
      " 29  date             10000 non-null  object \n",
      " 30  target_finish    10000 non-null  int64  \n",
      "dtypes: float64(4), int64(9), object(18)\n",
      "memory usage: 2.4+ MB\n"
     ]
    }
   ],
   "source": [
    "df = pd.read_csv(r'C:\\Users\\aryan\\Downloads\\Machine Learning\\GDG\\f1_dnf.csv')\n",
    "df.info()"
   ]
  },
  {
   "cell_type": "code",
   "execution_count": 28,
   "id": "d6c5a859",
   "metadata": {},
   "outputs": [
    {
     "data": {
      "text/plain": [
       "array(['British', 'British', 'Italian', ..., 'French', 'British',\n",
       "       'Canadian'], shape=(10000,), dtype=object)"
      ]
     },
     "execution_count": 28,
     "metadata": {},
     "output_type": "execute_result"
    }
   ],
   "source": [
    "df['nationality_y'].values"
   ]
  },
  {
   "cell_type": "code",
   "execution_count": 29,
   "id": "6b529666",
   "metadata": {},
   "outputs": [
    {
     "data": {
      "text/html": [
       "<div>\n",
       "<style scoped>\n",
       "    .dataframe tbody tr th:only-of-type {\n",
       "        vertical-align: middle;\n",
       "    }\n",
       "\n",
       "    .dataframe tbody tr th {\n",
       "        vertical-align: top;\n",
       "    }\n",
       "\n",
       "    .dataframe thead th {\n",
       "        text-align: right;\n",
       "    }\n",
       "</style>\n",
       "<table border=\"1\" class=\"dataframe\">\n",
       "  <thead>\n",
       "    <tr style=\"text-align: right;\">\n",
       "      <th></th>\n",
       "      <th>resultId</th>\n",
       "      <th>raceId</th>\n",
       "      <th>year</th>\n",
       "      <th>round</th>\n",
       "      <th>grid</th>\n",
       "      <th>positionOrder</th>\n",
       "      <th>points</th>\n",
       "      <th>laps</th>\n",
       "      <th>milliseconds</th>\n",
       "      <th>fastestLap</th>\n",
       "      <th>...</th>\n",
       "      <th>circuitRef</th>\n",
       "      <th>circuitId</th>\n",
       "      <th>name_y</th>\n",
       "      <th>location</th>\n",
       "      <th>country</th>\n",
       "      <th>lat</th>\n",
       "      <th>lng</th>\n",
       "      <th>alt</th>\n",
       "      <th>date</th>\n",
       "      <th>target_finish</th>\n",
       "    </tr>\n",
       "  </thead>\n",
       "  <tbody>\n",
       "    <tr>\n",
       "      <th>0</th>\n",
       "      <td>2460</td>\n",
       "      <td>136</td>\n",
       "      <td>2002</td>\n",
       "      <td>13</td>\n",
       "      <td>11</td>\n",
       "      <td>4</td>\n",
       "      <td>3.0</td>\n",
       "      <td>77.0</td>\n",
       "      <td>NaN</td>\n",
       "      <td>\\N</td>\n",
       "      <td>...</td>\n",
       "      <td>hungaroring</td>\n",
       "      <td>11</td>\n",
       "      <td>McLaren</td>\n",
       "      <td>Budapest</td>\n",
       "      <td>Hungary</td>\n",
       "      <td>47.5789</td>\n",
       "      <td>19.24860</td>\n",
       "      <td>264</td>\n",
       "      <td>2002-08-18</td>\n",
       "      <td>1</td>\n",
       "    </tr>\n",
       "    <tr>\n",
       "      <th>1</th>\n",
       "      <td>11565</td>\n",
       "      <td>483</td>\n",
       "      <td>1981</td>\n",
       "      <td>1</td>\n",
       "      <td>23</td>\n",
       "      <td>21</td>\n",
       "      <td>0.0</td>\n",
       "      <td>16.0</td>\n",
       "      <td>\\N</td>\n",
       "      <td>\\N</td>\n",
       "      <td>...</td>\n",
       "      <td>long_beach</td>\n",
       "      <td>43</td>\n",
       "      <td>McLaren</td>\n",
       "      <td>California</td>\n",
       "      <td>USA</td>\n",
       "      <td>33.7651</td>\n",
       "      <td>-118.18900</td>\n",
       "      <td>12</td>\n",
       "      <td>1981-03-15</td>\n",
       "      <td>0</td>\n",
       "    </tr>\n",
       "    <tr>\n",
       "      <th>2</th>\n",
       "      <td>18661</td>\n",
       "      <td>772</td>\n",
       "      <td>1958</td>\n",
       "      <td>8</td>\n",
       "      <td>0</td>\n",
       "      <td>26</td>\n",
       "      <td>0.0</td>\n",
       "      <td>0.0</td>\n",
       "      <td>\\N</td>\n",
       "      <td>\\N</td>\n",
       "      <td>...</td>\n",
       "      <td>nurburgring</td>\n",
       "      <td>20</td>\n",
       "      <td>Maserati</td>\n",
       "      <td>Nürburg</td>\n",
       "      <td>Germany</td>\n",
       "      <td>50.3356</td>\n",
       "      <td>6.94750</td>\n",
       "      <td>578</td>\n",
       "      <td>1958-08-03</td>\n",
       "      <td>0</td>\n",
       "    </tr>\n",
       "    <tr>\n",
       "      <th>3</th>\n",
       "      <td>25121</td>\n",
       "      <td>1058</td>\n",
       "      <td>2021</td>\n",
       "      <td>8</td>\n",
       "      <td>19</td>\n",
       "      <td>16</td>\n",
       "      <td>0.0</td>\n",
       "      <td>69.0</td>\n",
       "      <td>\\N</td>\n",
       "      <td>57</td>\n",
       "      <td>...</td>\n",
       "      <td>red_bull_ring</td>\n",
       "      <td>70</td>\n",
       "      <td>Haas F1 Team</td>\n",
       "      <td>Spielberg</td>\n",
       "      <td>Austria</td>\n",
       "      <td>47.2197</td>\n",
       "      <td>14.76470</td>\n",
       "      <td>678</td>\n",
       "      <td>2021-06-27</td>\n",
       "      <td>0</td>\n",
       "    </tr>\n",
       "    <tr>\n",
       "      <th>4</th>\n",
       "      <td>8863</td>\n",
       "      <td>383</td>\n",
       "      <td>1988</td>\n",
       "      <td>12</td>\n",
       "      <td>0</td>\n",
       "      <td>30</td>\n",
       "      <td>0.0</td>\n",
       "      <td>0.0</td>\n",
       "      <td>\\N</td>\n",
       "      <td>\\N</td>\n",
       "      <td>...</td>\n",
       "      <td>monza</td>\n",
       "      <td>14</td>\n",
       "      <td>Euro Brun</td>\n",
       "      <td>Monza</td>\n",
       "      <td>Italy</td>\n",
       "      <td>45.6156</td>\n",
       "      <td>9.28111</td>\n",
       "      <td>162</td>\n",
       "      <td>1988-09-11</td>\n",
       "      <td>0</td>\n",
       "    </tr>\n",
       "  </tbody>\n",
       "</table>\n",
       "<p>5 rows × 31 columns</p>\n",
       "</div>"
      ],
      "text/plain": [
       "   resultId  raceId  year  round  grid  positionOrder  points  laps  \\\n",
       "0      2460     136  2002     13    11              4     3.0  77.0   \n",
       "1     11565     483  1981      1    23             21     0.0  16.0   \n",
       "2     18661     772  1958      8     0             26     0.0   0.0   \n",
       "3     25121    1058  2021      8    19             16     0.0  69.0   \n",
       "4      8863     383  1988     12     0             30     0.0   0.0   \n",
       "\n",
       "  milliseconds fastestLap  ...     circuitRef circuitId        name_y  \\\n",
       "0          NaN         \\N  ...    hungaroring        11       McLaren   \n",
       "1           \\N         \\N  ...     long_beach        43       McLaren   \n",
       "2           \\N         \\N  ...    nurburgring        20      Maserati   \n",
       "3           \\N         57  ...  red_bull_ring        70  Haas F1 Team   \n",
       "4           \\N         \\N  ...          monza        14     Euro Brun   \n",
       "\n",
       "     location  country      lat        lng  alt        date target_finish  \n",
       "0    Budapest  Hungary  47.5789   19.24860  264  2002-08-18             1  \n",
       "1  California      USA  33.7651 -118.18900   12  1981-03-15             0  \n",
       "2     Nürburg  Germany  50.3356    6.94750  578  1958-08-03             0  \n",
       "3   Spielberg  Austria  47.2197   14.76470  678  2021-06-27             0  \n",
       "4       Monza    Italy  45.6156    9.28111  162  1988-09-11             0  \n",
       "\n",
       "[5 rows x 31 columns]"
      ]
     },
     "execution_count": 29,
     "metadata": {},
     "output_type": "execute_result"
    }
   ],
   "source": [
    "df.head()"
   ]
  },
  {
   "cell_type": "code",
   "execution_count": 30,
   "id": "bf6e00ad",
   "metadata": {},
   "outputs": [
    {
     "name": "stderr",
     "output_type": "stream",
     "text": [
      "C:\\Users\\aryan\\AppData\\Local\\Temp\\ipykernel_19188\\2433207429.py:4: UserWarning: Could not infer format, so each element will be parsed individually, falling back to `dateutil`. To ensure parsing is consistent and as-expected, please specify a format.\n",
      "  df['rank'] = pd.to_datetime(df['rank'], errors='coerce').fillna(0)\n",
      "C:\\Users\\aryan\\AppData\\Local\\Temp\\ipykernel_19188\\2433207429.py:4: FutureWarning: Downcasting object dtype arrays on .fillna, .ffill, .bfill is deprecated and will change in a future version. Call result.infer_objects(copy=False) instead. To opt-in to the future behavior, set `pd.set_option('future.no_silent_downcasting', True)`\n",
      "  df['rank'] = pd.to_datetime(df['rank'], errors='coerce').fillna(0)\n"
     ]
    }
   ],
   "source": [
    "df['milliseconds'] = pd.to_numeric(df['milliseconds'], errors='coerce')\n",
    "df['fastestLapSpeed'] = pd.to_numeric(df['fastestLapSpeed'], errors='coerce')\n",
    "df['fastestLap'] = pd.to_numeric(df['fastestLap'], errors='coerce')\n",
    "df['rank'] = pd.to_datetime(df['rank'], errors='coerce').fillna(0)\n",
    "df['date'] = pd.to_datetime(df['date'], errors='coerce')\n",
    "df['dob'] = pd.to_datetime(df['dob'], errors='coerce')"
   ]
  },
  {
   "cell_type": "code",
   "execution_count": 31,
   "id": "cc78c7e6",
   "metadata": {},
   "outputs": [],
   "source": [
    "numeric_cols = ['points', 'laps', 'milliseconds', 'fastestLapSpeed']\n",
    "for col in numeric_cols:\n",
    "    df[col] = df[col].fillna(df[col].median())"
   ]
  },
  {
   "cell_type": "code",
   "execution_count": 32,
   "id": "e8df5ecb",
   "metadata": {},
   "outputs": [],
   "source": [
    "df['date'] = pd.to_datetime(df['date'], errors='coerce')\n",
    "df['year'] = df['date'].dt.year\n",
    "df['month'] = df['date'].dt.month\n",
    "df['day'] = df['date'].dt.day\n",
    "df['race_month'] = df['date'].dt.month"
   ]
  },
  {
   "cell_type": "code",
   "execution_count": 33,
   "id": "7c98c6c2",
   "metadata": {},
   "outputs": [],
   "source": [
    "def time_to_seconds(t):\n",
    "    if isinstance(t, str) and ':' in t:\n",
    "        m, s = t.split(':')\n",
    "        try:\n",
    "            return int(m)*60 + float(s)\n",
    "        except:\n",
    "            return None\n",
    "    return None\n",
    "\n",
    "df['fastestLapTime'] = df['fastestLapTime'].apply(time_to_seconds)\n",
    "df['fastestLapTime'] = df['fastestLapTime'].fillna(df['fastestLapTime'].median())"
   ]
  },
  {
   "cell_type": "code",
   "execution_count": 34,
   "id": "d3945dca",
   "metadata": {},
   "outputs": [
    {
     "data": {
      "text/plain": [
       "driverRef         0\n",
       "surname           0\n",
       "forename          0\n",
       "nationality_x     0\n",
       "constructorRef    0\n",
       "name              0\n",
       "nationality_y     0\n",
       "circuitRef        0\n",
       "name_y            0\n",
       "location          0\n",
       "country           0\n",
       "dtype: int64"
      ]
     },
     "execution_count": 34,
     "metadata": {},
     "output_type": "execute_result"
    }
   ],
   "source": [
    "cat_cols = ['driverRef','surname','forename','nationality_x','constructorRef',\n",
    "            'name','nationality_y','circuitRef','name_y','location','country']\n",
    "\n",
    "for col in cat_cols:\n",
    "    df[col] = df[col].astype(str).str.strip().str.lower()\n",
    "\n",
    "df[cat_cols].isnull().sum()"
   ]
  },
  {
   "cell_type": "code",
   "execution_count": 35,
   "id": "1aeeddd1",
   "metadata": {},
   "outputs": [],
   "source": [
    "df = df.drop_duplicates()"
   ]
  },
  {
   "cell_type": "code",
   "execution_count": 36,
   "id": "b1086018",
   "metadata": {},
   "outputs": [],
   "source": [
    "df = df.drop(['resultId', 'raceId', 'surname', 'forename', 'dob', 'name_y', 'date'], axis=1)"
   ]
  },
  {
   "cell_type": "code",
   "execution_count": 37,
   "id": "7f4597cb",
   "metadata": {},
   "outputs": [],
   "source": [
    "from sklearn.preprocessing import LabelEncoder\n",
    "from sklearn.model_selection import train_test_split\n",
    "\n",
    "encoding_cols = ['driverRef', 'nationality_x', 'country', 'location', 'circuitRef', 'name', 'constructorRef', 'nationality_y']\n",
    "label_enc = LabelEncoder()\n",
    "\n",
    "for col in encoding_cols:\n",
    "    df[col] = label_enc.fit_transform(df[col])\n",
    "\n",
    "X = df\n",
    "y = df['target_finish']\n",
    "X.drop(columns='target_finish', inplace=True)\n",
    "\n",
    "X_train, X_test, y_train, y_test = train_test_split(X,y, test_size=0.2, random_state=42)"
   ]
  },
  {
   "cell_type": "code",
   "execution_count": 38,
   "id": "9b93aaba",
   "metadata": {},
   "outputs": [
    {
     "data": {
      "text/plain": [
       "((10000,), (10000, 26))"
      ]
     },
     "execution_count": 38,
     "metadata": {},
     "output_type": "execute_result"
    }
   ],
   "source": [
    "y.shape, X.shape"
   ]
  },
  {
   "cell_type": "code",
   "execution_count": 39,
   "id": "2b235c67",
   "metadata": {},
   "outputs": [
    {
     "name": "stderr",
     "output_type": "stream",
     "text": [
      "c:\\Users\\aryan\\anaconda3\\envs\\myenv\\Lib\\site-packages\\xgboost\\training.py:183: UserWarning: [09:05:28] WARNING: C:\\actions-runner\\_work\\xgboost\\xgboost\\src\\learner.cc:738: \n",
      "Parameters: { \"criterion\" } are not used.\n",
      "\n",
      "  bst.update(dtrain, iteration=i, fobj=obj)\n"
     ]
    },
    {
     "name": "stdout",
     "output_type": "stream",
     "text": [
      "MAE:  0.013\n",
      "RMSE:  0.013\n",
      "R^2:  0.9353745047450027\n"
     ]
    }
   ],
   "source": [
    "from xgboost import XGBClassifier\n",
    "from sklearn.metrics import mean_absolute_error, mean_squared_error, r2_score\n",
    "\n",
    "model = XGBClassifier(\n",
    "    n_estimators = 300,\n",
    "    learning_rate = 0.05,\n",
    "    max_depth = 7,\n",
    "    criterion = 'log_loss',\n",
    "    random_state = 42\n",
    ")\n",
    "\n",
    "model.fit(X_train, y_train)\n",
    "y_pred = model.predict(X_test)\n",
    "\n",
    "print(\"MAE: \", mean_absolute_error(y_test, y_pred))\n",
    "print(\"RMSE: \", mean_squared_error(y_test, y_pred))\n",
    "print(\"R^2: \", r2_score(y_test,y_pred))\n"
   ]
  },
  {
   "cell_type": "code",
   "execution_count": 40,
   "id": "37d4ca15",
   "metadata": {},
   "outputs": [
    {
     "name": "stdout",
     "output_type": "stream",
     "text": [
      "MAE:  0.0125\n",
      "RMSE:  0.0125\n",
      "R^2:  0.9378601007163487\n"
     ]
    }
   ],
   "source": [
    "from sklearn.ensemble import RandomForestClassifier\n",
    "\n",
    "rf_model = RandomForestClassifier(\n",
    "    n_estimators=300,\n",
    "    max_depth=15,\n",
    "    criterion='log_loss',\n",
    "    random_state=42\n",
    ")\n",
    "\n",
    "rf_model.fit(X_train, y_train)\n",
    "y_pred_rf = rf_model.predict(X_test)\n",
    "\n",
    "print(\"MAE: \", mean_absolute_error(y_test, y_pred_rf))\n",
    "print(\"RMSE: \", mean_squared_error(y_test, y_pred_rf))\n",
    "print(\"R^2: \", r2_score(y_test,y_pred_rf))"
   ]
  },
  {
   "cell_type": "code",
   "execution_count": 42,
   "id": "2da20f70",
   "metadata": {},
   "outputs": [
    {
     "data": {
      "text/plain": [
       "['label_encoder.pkl']"
      ]
     },
     "execution_count": 42,
     "metadata": {},
     "output_type": "execute_result"
    }
   ],
   "source": [
    "import joblib\n",
    "\n",
    "joblib.dump(rf_model, \"rf_model.pkl\")\n",
    "joblib.dump(label_enc, \"label_encoder.pkl\")\n"
   ]
  },
  {
   "cell_type": "code",
   "execution_count": null,
   "id": "2041019e",
   "metadata": {},
   "outputs": [],
   "source": []
  }
 ],
 "metadata": {
  "kernelspec": {
   "display_name": "myenv",
   "language": "python",
   "name": "python3"
  },
  "language_info": {
   "codemirror_mode": {
    "name": "ipython",
    "version": 3
   },
   "file_extension": ".py",
   "mimetype": "text/x-python",
   "name": "python",
   "nbconvert_exporter": "python",
   "pygments_lexer": "ipython3",
   "version": "3.12.12"
  }
 },
 "nbformat": 4,
 "nbformat_minor": 5
}
